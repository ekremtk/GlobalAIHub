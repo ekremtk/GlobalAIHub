{
  "nbformat": 4,
  "nbformat_minor": 0,
  "metadata": {
    "colab": {
      "provenance": [],
      "collapsed_sections": [],
      "authorship_tag": "ABX9TyMVuIIeuCX8tuSDvel3yFP8",
      "include_colab_link": true
    },
    "kernelspec": {
      "name": "python3",
      "display_name": "Python 3"
    },
    "language_info": {
      "name": "python"
    }
  },
  "cells": [
    {
      "cell_type": "markdown",
      "metadata": {
        "id": "view-in-github",
        "colab_type": "text"
      },
      "source": [
        "<a href=\"https://colab.research.google.com/github/ekremtk/GlobalAIHub/blob/main/UrbanSounds_Preprocessing.ipynb\" target=\"_parent\"><img src=\"https://colab.research.google.com/assets/colab-badge.svg\" alt=\"Open In Colab\"/></a>"
      ]
    },
    {
      "cell_type": "markdown",
      "source": [
        "# Urban Sounds 8K - Preprocessing"
      ],
      "metadata": {
        "id": "YyPfSGyoanIH"
      }
    },
    {
      "cell_type": "markdown",
      "source": [
        "*   **Google Colab - Google Drive Bağlantısı Kurulur**\n",
        "\n"
      ],
      "metadata": {
        "id": "wpCokZftYmKC"
      }
    },
    {
      "cell_type": "code",
      "execution_count": 1,
      "metadata": {
        "colab": {
          "base_uri": "https://localhost:8080/"
        },
        "id": "hDfhflphhOen",
        "outputId": "ffd95a85-0bb8-473b-d39a-f993d9bc38ee"
      },
      "outputs": [
        {
          "output_type": "stream",
          "name": "stdout",
          "text": [
            "Drive already mounted at /content/drive; to attempt to forcibly remount, call drive.mount(\"/content/drive\", force_remount=True).\n"
          ]
        }
      ],
      "source": [
        "from google.colab import drive\n",
        "from google.colab import files\n",
        "drive.mount('/content/drive')"
      ]
    },
    {
      "cell_type": "markdown",
      "source": [
        "*   **Kütüphaneler Yüklenir**"
      ],
      "metadata": {
        "id": "pfmnMGSFYuLH"
      }
    },
    {
      "cell_type": "code",
      "source": [
        "import numpy as np\n",
        "import matplotlib.pyplot as plt\n",
        "import cv2\n",
        "\n",
        "from tqdm import tqdm\n",
        "import os\n",
        "import random\n",
        "\n",
        "from sklearn.model_selection import train_test_split"
      ],
      "metadata": {
        "id": "dyJX_yiFhpvS"
      },
      "execution_count": 2,
      "outputs": []
    },
    {
      "cell_type": "markdown",
      "source": [
        "* **Klasörlerin Bulunduğu Yol ve Başlıklar Belirtilir**"
      ],
      "metadata": {
        "id": "Y81Tryi6bGIa"
      }
    },
    {
      "cell_type": "code",
      "source": [
        "FoldersMainPath = \"drive/MyDrive/GlobalAIHub/Project/spectrograms\"\n",
        "\n",
        "Labels = [\"0\", \"1\", \"2\", \"3\", \"4\", \"5\", \"6\", \"7\", \"8\", \"9\"]"
      ],
      "metadata": {
        "id": "jOJ1xVm3bFaI"
      },
      "execution_count": 3,
      "outputs": []
    },
    {
      "cell_type": "markdown",
      "source": [
        "* **Veri Oluşturma Fonksiyonu**"
      ],
      "metadata": {
        "id": "Pd38bcAciC7g"
      }
    },
    {
      "cell_type": "markdown",
      "source": [
        "1.   For döngüsü ile başlıklar (Labels) içinde dolaşılır ve category oluşturulur\n",
        "2.   path.join ile klasör yolu ile category değişkeni birleştirilip klasör için yol oluşturulur.\n",
        "3.   index ile de başlıklar içindeki category için sınıf numarası oluşturulur.\n",
        "---\n",
        "4.   Oluşturulan klasör yolu içindeki her bir görsel üzerinde ön işleme yapılır.\n",
        "5.   Görüntü okunur ve direkt Gri Formata çevrilir.\n",
        "6.   Gri formata çevrilen görüntü yeniden boyutlandırılır.\n",
        "7.   Yeniden boyutlandırılan görsel 0-255 aralığında normalize edilir.\n",
        "8.   Normalize edilen görüntü ve sınıf numarası listeye atanır.\n",
        "9.   Herhangi bir hata durumu görmezden gelinir.\n"
      ],
      "metadata": {
        "id": "f_0mK-SubUPi"
      }
    },
    {
      "cell_type": "code",
      "source": [
        "def create_data(img_new_size):\n",
        "    for category in Labels:                                 \n",
        "\n",
        "        path = os.path.join(FoldersMainPath, category)      \n",
        "        class_num = Labels.index(category)                  \n",
        "\n",
        "        for img in tqdm(os.listdir(path)):\n",
        "            try:\n",
        "                img_array = cv2.imread(os.path.join(path, img), cv2.IMREAD_GRAYSCALE)   \n",
        "                new_array = cv2.resize(img_array, (img_new_size, img_new_size))\n",
        "                normalized_img = cv2.normalize(new_array, new_array, 0, 255, cv2.NORM_MINMAX)\n",
        "                data.append([normalized_img, class_num])                                             \n",
        "            except Exception as e:  \n",
        "                pass"
      ],
      "metadata": {
        "id": "keoI_WE7iCbj"
      },
      "execution_count": 4,
      "outputs": []
    },
    {
      "cell_type": "markdown",
      "source": [
        "* **Veri Oluşturma Fonksiyonu Çalıştırılır**\n",
        "\n"
      ],
      "metadata": {
        "id": "LSoPH4hhdUlF"
      }
    },
    {
      "cell_type": "code",
      "source": [
        "# Boş veri listesi oluşturulur ve görüntünün yeni boyutu belirlenir.\n",
        "data = [] \n",
        "img_new_size = 100\n",
        "\n",
        "# Fonksiyon Çalıştırılır\n",
        "create_data(img_new_size)"
      ],
      "metadata": {
        "colab": {
          "base_uri": "https://localhost:8080/"
        },
        "id": "aoZZEnkJmT7m",
        "outputId": "4252134e-6c2e-4521-89c5-d515da2a6eea"
      },
      "execution_count": 5,
      "outputs": [
        {
          "output_type": "stream",
          "name": "stderr",
          "text": [
            "100%|██████████| 1000/1000 [00:11<00:00, 87.04it/s]\n",
            "100%|██████████| 429/429 [00:02<00:00, 144.69it/s]\n",
            "100%|██████████| 1000/1000 [00:07<00:00, 139.29it/s]\n",
            "100%|██████████| 1000/1000 [00:06<00:00, 151.82it/s]\n",
            "100%|██████████| 1000/1000 [00:07<00:00, 139.09it/s]\n",
            "100%|██████████| 1000/1000 [00:06<00:00, 143.53it/s]\n",
            "100%|██████████| 374/374 [00:02<00:00, 144.65it/s]\n",
            "100%|██████████| 1000/1000 [00:09<00:00, 110.01it/s]\n",
            "100%|██████████| 929/929 [00:06<00:00, 137.83it/s]\n",
            "100%|██████████| 1000/1000 [00:07<00:00, 137.26it/s]\n"
          ]
        }
      ]
    },
    {
      "cell_type": "code",
      "source": [
        "# Elde edilen verinin boyutu kontrol edilir\n",
        "print(len(data))"
      ],
      "metadata": {
        "colab": {
          "base_uri": "https://localhost:8080/"
        },
        "id": "FlUQxMy_dw3o",
        "outputId": "13f0dc0d-5fb7-4c6f-b83f-3c2ce14a1705"
      },
      "execution_count": 6,
      "outputs": [
        {
          "output_type": "stream",
          "name": "stdout",
          "text": [
            "8732\n"
          ]
        }
      ]
    },
    {
      "cell_type": "markdown",
      "source": [
        "*   **Veri Karıştırılır - Shuffle**"
      ],
      "metadata": {
        "id": "eWN45waYkZ7I"
      }
    },
    {
      "cell_type": "code",
      "source": [
        "random.shuffle(data)"
      ],
      "metadata": {
        "id": "XoGDv6FtkW-l"
      },
      "execution_count": 7,
      "outputs": []
    },
    {
      "cell_type": "markdown",
      "source": [
        "* **Veri Kümesi Modeli Oluşturma**"
      ],
      "metadata": {
        "id": "t9-AEbdYka8P"
      }
    },
    {
      "cell_type": "code",
      "source": [
        "X = []\n",
        "y = []\n",
        "\n",
        "# Verinin içindeki özellikler X listesine ve\n",
        "# Verinin içindeki başlıklar  y listeine atanır\n",
        "for features, label in data:\n",
        "    X.append(features)\n",
        "    y.append(label)"
      ],
      "metadata": {
        "id": "cNvIK4FPktWg"
      },
      "execution_count": 8,
      "outputs": []
    },
    {
      "cell_type": "code",
      "source": [
        "# X'i yeniden boyutlandırıp np.array olarak dönüştürülür\n",
        "# y'yi de numpy array olarak dönüştürülür.\n",
        "\n",
        "X = np.array(X).reshape(-1, img_new_size, img_new_size, 1)\n",
        "y = np.array(y)"
      ],
      "metadata": {
        "id": "N5Amp21Wej3h"
      },
      "execution_count": 9,
      "outputs": []
    },
    {
      "cell_type": "markdown",
      "source": [
        "* **X ve y veri listeleri numpy olarak kayıt edilir.**"
      ],
      "metadata": {
        "id": "_l7cFKwIe5Yw"
      }
    },
    {
      "cell_type": "code",
      "source": [
        "np.save('drive/MyDrive/GlobalAIHub/Project/data/features_new', X)\n",
        "np.save('drive/MyDrive/GlobalAIHub/Project/data/labels_new', y)\n",
        "  \n",
        "print(\"The data has been saved in the folder.\")"
      ],
      "metadata": {
        "colab": {
          "base_uri": "https://localhost:8080/"
        },
        "id": "xtS4DZwie5qk",
        "outputId": "b3636cf3-6fe3-4f6f-ba7e-67bb676525d5"
      },
      "execution_count": 10,
      "outputs": [
        {
          "output_type": "stream",
          "name": "stdout",
          "text": [
            "The data has been saved in the folder.\n"
          ]
        }
      ]
    },
    {
      "cell_type": "markdown",
      "source": [
        "* **Veri Kümesi Modeli Oluşturma**"
      ],
      "metadata": {
        "id": "Nzf8mHlCe7x6"
      }
    },
    {
      "cell_type": "code",
      "source": [
        "# Tüm verinin %70'i eğitim ve %30'u test kümesi için ayrılır. \n",
        "X_train, X_test, y_train, y_test = train_test_split(X, y, test_size = 0.3)\n",
        "\n",
        "# %30'u test için ayrılan veriden %50'si test ve %50'si doğrulama kümesi için ayrılır. \n",
        "X_test, X_val, y_test, y_val = train_test_split(X_test, y_test, test_size = 0.5)\n",
        "\n",
        "# Train = %70 / Test = %15 / Validation = %15"
      ],
      "metadata": {
        "id": "Gorsakf4fq6h"
      },
      "execution_count": 11,
      "outputs": []
    },
    {
      "cell_type": "code",
      "source": [
        "# Kontrol etmek için veri kümelerinin örnek sayısı (uzunluk) ekrana yazdırılır\n",
        " \n",
        "print(f\"X_train: {len(X_train)}\")\n",
        "print(f\"X_test: {len(X_test)}\")\n",
        "print(f\"X_val: {len(X_val)}\")\n",
        "\n",
        "print(f\"y_train: {len(y_train)}\")\n",
        "print(f\"y_test: {len(y_test)}\")\n",
        "print(f\"y_val: {len(y_val)}\")"
      ],
      "metadata": {
        "colab": {
          "base_uri": "https://localhost:8080/"
        },
        "id": "jepJmTe9gySw",
        "outputId": "50b42962-2245-4c21-d8c8-c85f41137a4f"
      },
      "execution_count": 12,
      "outputs": [
        {
          "output_type": "stream",
          "name": "stdout",
          "text": [
            "X_train: 6112\n",
            "X_test: 1310\n",
            "X_val: 1310\n",
            "y_train: 6112\n",
            "y_test: 1310\n",
            "y_val: 1310\n"
          ]
        }
      ]
    },
    {
      "cell_type": "markdown",
      "source": [
        "* **Ayrılan veri listeleri numpy olarak kayıt edilir.**"
      ],
      "metadata": {
        "id": "cGyDhqz2hEt5"
      }
    },
    {
      "cell_type": "code",
      "source": [
        "np.save('drive/MyDrive/GlobalAIHub/Project/data/X_train', X_train)\n",
        "np.save('drive/MyDrive/GlobalAIHub/Project/data/X_test', X_test)\n",
        "np.save('drive/MyDrive/GlobalAIHub/Project/data/X_val', X_val)\n",
        "\n",
        "np.save('drive/MyDrive/GlobalAIHub/Project/data/y_train', y_train)\n",
        "np.save('drive/MyDrive/GlobalAIHub/Project/data/y_test', y_test)\n",
        "np.save('drive/MyDrive/GlobalAIHub/Project/data/y_val', y_val)\n",
        "  \n",
        "print(\"The split data has been saved in the folder.\")"
      ],
      "metadata": {
        "colab": {
          "base_uri": "https://localhost:8080/"
        },
        "id": "SZg3ofSghEt6",
        "outputId": "6e0e50ea-6b3a-4ed6-ba27-67f519743805"
      },
      "execution_count": 13,
      "outputs": [
        {
          "output_type": "stream",
          "name": "stdout",
          "text": [
            "The split data has been saved in the folder.\n"
          ]
        }
      ]
    }
  ]
}