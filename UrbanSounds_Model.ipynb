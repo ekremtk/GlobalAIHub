{
  "nbformat": 4,
  "nbformat_minor": 0,
  "metadata": {
    "colab": {
      "provenance": [],
      "authorship_tag": "ABX9TyOkI/OQK7kSGabj6L7OxUcp",
      "include_colab_link": true
    },
    "kernelspec": {
      "name": "python3",
      "display_name": "Python 3"
    },
    "language_info": {
      "name": "python"
    }
  },
  "cells": [
    {
      "cell_type": "markdown",
      "metadata": {
        "id": "view-in-github",
        "colab_type": "text"
      },
      "source": [
        "<a href=\"https://colab.research.google.com/github/ekremtk/GlobalAIHub/blob/main/UrbanSounds_Model.ipynb\" target=\"_parent\"><img src=\"https://colab.research.google.com/assets/colab-badge.svg\" alt=\"Open In Colab\"/></a>"
      ]
    },
    {
      "cell_type": "markdown",
      "source": [
        "# Urban Sounds 8K - Model Creating - Running - Evaluating"
      ],
      "metadata": {
        "id": "YyPfSGyoanIH"
      }
    },
    {
      "cell_type": "markdown",
      "source": [
        "*   **Google Colab - Google Drive Bağlantısı Kurulur**\n",
        "\n"
      ],
      "metadata": {
        "id": "wpCokZftYmKC"
      }
    },
    {
      "cell_type": "code",
      "execution_count": 1,
      "metadata": {
        "colab": {
          "base_uri": "https://localhost:8080/"
        },
        "id": "hDfhflphhOen",
        "outputId": "6b56977d-3d53-488e-9883-4d9e18107d58"
      },
      "outputs": [
        {
          "output_type": "stream",
          "name": "stdout",
          "text": [
            "Drive already mounted at /content/drive; to attempt to forcibly remount, call drive.mount(\"/content/drive\", force_remount=True).\n"
          ]
        }
      ],
      "source": [
        "from google.colab import drive\n",
        "from google.colab import files\n",
        "drive.mount('/content/drive')"
      ]
    },
    {
      "cell_type": "markdown",
      "source": [
        "*   **Kütüphaneler Yüklenir**"
      ],
      "metadata": {
        "id": "pfmnMGSFYuLH"
      }
    },
    {
      "cell_type": "code",
      "source": [
        "import numpy as np\n",
        "import matplotlib.pyplot as plt\n",
        "\n",
        "import os\n",
        "\n",
        "import tensorflow as tf"
      ],
      "metadata": {
        "id": "dyJX_yiFhpvS"
      },
      "execution_count": 2,
      "outputs": []
    },
    {
      "cell_type": "markdown",
      "source": [
        "* **Veri Kümeleri Yüklenmesi**"
      ],
      "metadata": {
        "id": "bn77g-K1kzYS"
      }
    },
    {
      "cell_type": "code",
      "source": [
        "X_train = np.load('drive/MyDrive/GlobalAIHub/Project/data/X_train.npy')\n",
        "X_test = np.load('drive/MyDrive/GlobalAIHub/Project/data/X_test.npy')\n",
        "X_val = np.load('drive/MyDrive/GlobalAIHub/Project/data/X_val.npy')\n",
        "\n",
        "y_train = np.load('drive/MyDrive/GlobalAIHub/Project/data/y_train.npy')\n",
        "y_test = np.load('drive/MyDrive/GlobalAIHub/Project/data/y_test.npy')\n",
        "y_val = np.load('drive/MyDrive/GlobalAIHub/Project/data/y_val.npy')"
      ],
      "metadata": {
        "id": "E0rWKppskz-F"
      },
      "execution_count": 3,
      "outputs": []
    },
    {
      "cell_type": "code",
      "source": [
        "print(f\"X_train: {len(X_train)}\")\n",
        "print(f\"X_test: {len(X_test)}\")\n",
        "print(f\"X_val: {len(X_val)}\")\n",
        "\n",
        "print(f\"y_train: {len(y_train)}\")\n",
        "print(f\"y_test: {len(y_test)}\")\n",
        "print(f\"y_val: {len(y_val)}\")"
      ],
      "metadata": {
        "colab": {
          "base_uri": "https://localhost:8080/"
        },
        "id": "TuK08fvjoAFU",
        "outputId": "6893af9a-5fb7-407b-8df9-0f3ab3c84ed2"
      },
      "execution_count": 4,
      "outputs": [
        {
          "output_type": "stream",
          "name": "stdout",
          "text": [
            "X_train: 6112\n",
            "X_test: 1310\n",
            "X_val: 1310\n",
            "y_train: 6112\n",
            "y_test: 1310\n",
            "y_val: 1310\n"
          ]
        }
      ]
    },
    {
      "cell_type": "markdown",
      "source": [
        "*   **Model Oluşturulur**"
      ],
      "metadata": {
        "id": "p9sGAqlmiTTM"
      }
    },
    {
      "cell_type": "code",
      "source": [
        "# Model Objesi Oluşturulur\n",
        "# Doğrusal biçimde oluşturulan katman yığınıdır.\n",
        "\n",
        "model = tf.keras.Sequential()"
      ],
      "metadata": {
        "id": "1YAkc69FiWzI"
      },
      "execution_count": 5,
      "outputs": []
    },
    {
      "cell_type": "code",
      "source": [
        "# 4 adet 2 boyutlu evrişim katmanı ve her birinin arasına max_pooling katmanı eklenir.\n",
        "\n",
        "model.add(tf.keras.layers.Conv2D(32, kernel_size = (3, 3), strides = (1, 1),\n",
        "                                 padding = \"same\", activation = \"relu\", input_shape = X_train.shape[1:] ))\n",
        "\n",
        "model.add(tf.keras.layers.MaxPooling2D(2, 2))\n",
        "\n",
        "\n",
        "model.add(tf.keras.layers.Conv2D(64, kernel_size = (3, 3), strides = (1, 1),\n",
        "                                 padding = \"same\", activation = \"relu\"))\n",
        "\n",
        "model.add(tf.keras.layers.MaxPooling2D(2, 2))\n",
        "\n",
        "\n",
        "model.add(tf.keras.layers.Conv2D(64, kernel_size = (3, 3), strides = (1, 1),\n",
        "                                 padding = \"same\", activation = \"relu\"))\n",
        "\n",
        "model.add(tf.keras.layers.MaxPooling2D(2, 2))\n",
        "\n",
        "\n",
        "model.add(tf.keras.layers.Conv2D(128, kernel_size = (3, 3), strides = (1, 1),\n",
        "                                 padding = \"same\", activation = \"relu\"))"
      ],
      "metadata": {
        "id": "CRl5-RJ-iPTP"
      },
      "execution_count": 6,
      "outputs": []
    },
    {
      "cell_type": "code",
      "source": [
        "# Düzleştirme katmanı eklenir\n",
        "# Evrişim katmanlarından gelen çıktı Flatten katmanı ile tek boyutlu hale dönüştürülür.\n",
        "\n",
        "model.add(tf.keras.layers.Flatten())"
      ],
      "metadata": {
        "id": "55iaml_gjd7H"
      },
      "execution_count": 7,
      "outputs": []
    },
    {
      "cell_type": "code",
      "source": [
        "# 2 tane tam bağlı ve bırakma katmanı eklenir.\n",
        "# Bırakma oranı %50 olarak belirlenmiştir.\n",
        "\n",
        "model.add(tf.keras.layers.Dense(64, activation = \"relu\"))\n",
        "model.add(tf.keras.layers.Dropout(0.5))\n",
        "\n",
        "model.add(tf.keras.layers.Dense(64, activation = \"relu\"))\n",
        "model.add(tf.keras.layers.Dropout(0.5))"
      ],
      "metadata": {
        "id": "UobUGDvZjd1b"
      },
      "execution_count": 8,
      "outputs": []
    },
    {
      "cell_type": "code",
      "source": [
        "# Çıkış katmanı eklenir\n",
        "# 10 Sınıf olduğu için birim sayısı (units) 10 olarak ayarlanır.\n",
        "# Sınıf tahminin yapabilmek için aktivasyon fonksiyonu softmax olarak tercih edilir.\n",
        "\n",
        "model.add(tf.keras.layers.Dense(10, activation = \"softmax\"))"
      ],
      "metadata": {
        "id": "vNRjgK-qiqd1"
      },
      "execution_count": 9,
      "outputs": []
    },
    {
      "cell_type": "code",
      "source": [
        "# Model tamamlanır.\n",
        "model.compile(optimizer = \"adam\", loss = \"sparse_categorical_crossentropy\", metrics = [\"accuracy\"])"
      ],
      "metadata": {
        "id": "HKyNgbZ5ksPr"
      },
      "execution_count": 10,
      "outputs": []
    },
    {
      "cell_type": "code",
      "source": [
        "# Modelin özeti gösterilir\n",
        "model.summary()"
      ],
      "metadata": {
        "colab": {
          "base_uri": "https://localhost:8080/"
        },
        "id": "EErCfHAwrSQs",
        "outputId": "44e066d1-7d46-4cbd-dbca-d08866c73bad"
      },
      "execution_count": 11,
      "outputs": [
        {
          "output_type": "stream",
          "name": "stdout",
          "text": [
            "Model: \"sequential\"\n",
            "_________________________________________________________________\n",
            " Layer (type)                Output Shape              Param #   \n",
            "=================================================================\n",
            " conv2d (Conv2D)             (None, 100, 100, 32)      320       \n",
            "                                                                 \n",
            " max_pooling2d (MaxPooling2D  (None, 50, 50, 32)       0         \n",
            " )                                                               \n",
            "                                                                 \n",
            " conv2d_1 (Conv2D)           (None, 50, 50, 64)        18496     \n",
            "                                                                 \n",
            " max_pooling2d_1 (MaxPooling  (None, 25, 25, 64)       0         \n",
            " 2D)                                                             \n",
            "                                                                 \n",
            " conv2d_2 (Conv2D)           (None, 25, 25, 64)        36928     \n",
            "                                                                 \n",
            " max_pooling2d_2 (MaxPooling  (None, 12, 12, 64)       0         \n",
            " 2D)                                                             \n",
            "                                                                 \n",
            " conv2d_3 (Conv2D)           (None, 12, 12, 128)       73856     \n",
            "                                                                 \n",
            " flatten (Flatten)           (None, 18432)             0         \n",
            "                                                                 \n",
            " dense (Dense)               (None, 64)                1179712   \n",
            "                                                                 \n",
            " dropout (Dropout)           (None, 64)                0         \n",
            "                                                                 \n",
            " dense_1 (Dense)             (None, 64)                4160      \n",
            "                                                                 \n",
            " dropout_1 (Dropout)         (None, 64)                0         \n",
            "                                                                 \n",
            " dense_2 (Dense)             (None, 10)                650       \n",
            "                                                                 \n",
            "=================================================================\n",
            "Total params: 1,314,122\n",
            "Trainable params: 1,314,122\n",
            "Non-trainable params: 0\n",
            "_________________________________________________________________\n"
          ]
        }
      ]
    },
    {
      "cell_type": "markdown",
      "source": [
        "* **Modelin Çalıştırılması**"
      ],
      "metadata": {
        "id": "YFuvagWpkzqn"
      }
    },
    {
      "cell_type": "code",
      "source": [
        "# Model 20 defa (epoch) 128 parça boyutu (batch size) ile çalıştırılır\n",
        "\n",
        "Model_Results = model.fit(X_train, y_train, batch_size = 128, epochs = 20, validation_data = (X_val, y_val))"
      ],
      "metadata": {
        "colab": {
          "base_uri": "https://localhost:8080/"
        },
        "id": "OYmMtfXXk0Jw",
        "outputId": "d6cbc3cf-a6e6-4ce2-9965-e873f3dbc83e"
      },
      "execution_count": 12,
      "outputs": [
        {
          "output_type": "stream",
          "name": "stdout",
          "text": [
            "Epoch 1/20\n",
            "48/48 [==============================] - 72s 1s/step - loss: 2.7706 - accuracy: 0.1446 - val_loss: 2.1581 - val_accuracy: 0.2511\n",
            "Epoch 2/20\n",
            "48/48 [==============================] - 71s 1s/step - loss: 2.1577 - accuracy: 0.1911 - val_loss: 1.9359 - val_accuracy: 0.3275\n",
            "Epoch 3/20\n",
            "48/48 [==============================] - 71s 1s/step - loss: 2.0521 - accuracy: 0.2323 - val_loss: 1.7968 - val_accuracy: 0.3542\n",
            "Epoch 4/20\n",
            "48/48 [==============================] - 71s 1s/step - loss: 1.9988 - accuracy: 0.2521 - val_loss: 1.7628 - val_accuracy: 0.4229\n",
            "Epoch 5/20\n",
            "48/48 [==============================] - 71s 1s/step - loss: 1.9400 - accuracy: 0.2726 - val_loss: 1.6630 - val_accuracy: 0.4107\n",
            "Epoch 6/20\n",
            "48/48 [==============================] - 71s 1s/step - loss: 1.8956 - accuracy: 0.2832 - val_loss: 1.6683 - val_accuracy: 0.4153\n",
            "Epoch 7/20\n",
            "48/48 [==============================] - 71s 1s/step - loss: 1.8632 - accuracy: 0.3012 - val_loss: 1.5132 - val_accuracy: 0.5061\n",
            "Epoch 8/20\n",
            "48/48 [==============================] - 71s 1s/step - loss: 1.7834 - accuracy: 0.3367 - val_loss: 1.5362 - val_accuracy: 0.5076\n",
            "Epoch 9/20\n",
            "48/48 [==============================] - 71s 1s/step - loss: 1.7130 - accuracy: 0.3753 - val_loss: 1.3536 - val_accuracy: 0.5809\n",
            "Epoch 10/20\n",
            "48/48 [==============================] - 70s 1s/step - loss: 1.6366 - accuracy: 0.4004 - val_loss: 1.3351 - val_accuracy: 0.5878\n",
            "Epoch 11/20\n",
            "48/48 [==============================] - 70s 1s/step - loss: 1.5745 - accuracy: 0.4131 - val_loss: 1.2180 - val_accuracy: 0.6305\n",
            "Epoch 12/20\n",
            "48/48 [==============================] - 70s 1s/step - loss: 1.5176 - accuracy: 0.4380 - val_loss: 1.1408 - val_accuracy: 0.6397\n",
            "Epoch 13/20\n",
            "48/48 [==============================] - 70s 1s/step - loss: 1.4306 - accuracy: 0.4594 - val_loss: 1.1050 - val_accuracy: 0.6489\n",
            "Epoch 14/20\n",
            "48/48 [==============================] - 70s 1s/step - loss: 1.4178 - accuracy: 0.4746 - val_loss: 1.0747 - val_accuracy: 0.6466\n",
            "Epoch 15/20\n",
            "48/48 [==============================] - 70s 1s/step - loss: 1.3357 - accuracy: 0.5047 - val_loss: 1.0727 - val_accuracy: 0.6641\n",
            "Epoch 16/20\n",
            "48/48 [==============================] - 70s 1s/step - loss: 1.3395 - accuracy: 0.5033 - val_loss: 1.0589 - val_accuracy: 0.6664\n",
            "Epoch 17/20\n",
            "48/48 [==============================] - 70s 1s/step - loss: 1.2821 - accuracy: 0.5227 - val_loss: 0.9623 - val_accuracy: 0.7107\n",
            "Epoch 18/20\n",
            "48/48 [==============================] - 70s 1s/step - loss: 1.2381 - accuracy: 0.5317 - val_loss: 0.9350 - val_accuracy: 0.7076\n",
            "Epoch 19/20\n",
            "48/48 [==============================] - 70s 1s/step - loss: 1.1935 - accuracy: 0.5524 - val_loss: 0.9063 - val_accuracy: 0.7275\n",
            "Epoch 20/20\n",
            "48/48 [==============================] - 70s 1s/step - loss: 1.1139 - accuracy: 0.5905 - val_loss: 0.8618 - val_accuracy: 0.7473\n"
          ]
        }
      ]
    },
    {
      "cell_type": "markdown",
      "source": [
        "* **Modelin Sonuçlarının Görselleştirilmesi**"
      ],
      "metadata": {
        "id": "bPeA9VanltI0"
      }
    },
    {
      "cell_type": "code",
      "source": [
        "# Eğitim kaybı çizdilir\n",
        "plt.plot(Model_Results.history[\"loss\"], label = \"loss\")\n",
        "\n",
        "# Doğrulama kaybı çizdirilir\n",
        "plt.plot(Model_Results.history[\"val_loss\"], label = \"val_loss\")\n",
        "\n",
        "# X ve Y eksenleri isimlendirilir\n",
        "plt.xlabel(\"Epoch\")\n",
        "plt.ylabel(\"Loss\")\n",
        "\n",
        "# Lejant tablosu çizim üstüne eklenir\n",
        "plt.legend()\n",
        "\n",
        "# Çizim gösterilir\n",
        "plt.show()"
      ],
      "metadata": {
        "colab": {
          "base_uri": "https://localhost:8080/",
          "height": 279
        },
        "id": "NMa7RErvltbY",
        "outputId": "7b17b60a-1ddc-4b7d-b74f-d7b8abb3634a"
      },
      "execution_count": 13,
      "outputs": [
        {
          "output_type": "display_data",
          "data": {
            "text/plain": [
              "<Figure size 432x288 with 1 Axes>"
            ],
            "image/png": "[encoded data removed]"
          },
          "metadata": {
            "needs_background": "light"
          }
        }
      ]
    },
    {
      "cell_type": "code",
      "source": [
        "# Eğitim doğruluğu çizdilir\n",
        "plt.plot(Model_Results.history[\"accuracy\"], label = \"accuracy\")\n",
        "\n",
        "# Doğrulama doğruluğu çizdirilir\n",
        "plt.plot(Model_Results.history[\"val_accuracy\"], label = \"val_accuracy\")\n",
        "\n",
        "# X ve Y eksenleri isimlendirilir\n",
        "plt.xlabel(\"Epoch\")\n",
        "plt.ylabel(\"Accuracy\")\n",
        "\n",
        "# Lejant tablosu çizim üstüne eklenir\n",
        "plt.legend()\n",
        "\n",
        "# Çizim gösterilir\n",
        "plt.show()"
      ],
      "metadata": {
        "colab": {
          "base_uri": "https://localhost:8080/",
          "height": 279
        },
        "id": "DGwj_As-mMej",
        "outputId": "5d5149d2-467d-4124-d299-fe753c39a725"
      },
      "execution_count": 14,
      "outputs": [
        {
          "output_type": "display_data",
          "data": {
            "text/plain": [
              "<Figure size 432x288 with 1 Axes>"
            ],
            "image/png": "[encoded data removed]"
          },
          "metadata": {
            "needs_background": "light"
          }
        }
      ]
    },
    {
      "cell_type": "markdown",
      "source": [
        "* **Test Verisi Üzerinde Model Performansının Değerlendirilmesi**"
      ],
      "metadata": {
        "id": "IayS4IxYmVdG"
      }
    },
    {
      "cell_type": "code",
      "source": [
        "model.evaluate(X_test, y_test)"
      ],
      "metadata": {
        "colab": {
          "base_uri": "https://localhost:8080/"
        },
        "id": "9iwAd3-xmVwo",
        "outputId": "296436dc-0641-4268-a685-938bb2f846e7"
      },
      "execution_count": 15,
      "outputs": [
        {
          "output_type": "stream",
          "name": "stdout",
          "text": [
            "41/41 [==============================] - 4s 99ms/step - loss: 0.9001 - accuracy: 0.7305\n"
          ]
        },
        {
          "output_type": "execute_result",
          "data": {
            "text/plain": [
              "[0.9000938534736633, 0.7305343747138977]"
            ]
          },
          "metadata": {},
          "execution_count": 15
        }
      ]
    },
    {
      "cell_type": "markdown",
      "source": [
        "\n",
        "\n",
        "---\n",
        "\n",
        "\n",
        "\n",
        "---\n",
        "\n",
        "\n",
        "\n",
        "---\n",
        "\n"
      ],
      "metadata": {
        "id": "rtkPeDRr2i0Y"
      }
    },
    {
      "cell_type": "markdown",
      "source": [
        "*   **Başka Bir Model Oluşturulur**"
      ],
      "metadata": {
        "id": "8yTih6h52gdR"
      }
    },
    {
      "cell_type": "code",
      "source": [
        "# Model Objesi Oluşturulur\n",
        "# Doğrusal biçimde oluşturulan katman yığınıdır.\n",
        "\n",
        "model = tf.keras.Sequential()"
      ],
      "metadata": {
        "id": "f3S17Apr2gdR"
      },
      "execution_count": 33,
      "outputs": []
    },
    {
      "cell_type": "code",
      "source": [
        "# 5 adet 2 boyutlu evrişim katmanı ve her birinin arasına max_pooling katmanı eklenir.\n",
        "\n",
        "model.add(tf.keras.layers.Conv2D(16, kernel_size = (3, 3), strides = (1, 1),\n",
        "                                 padding = \"same\", activation = \"relu\", input_shape = X_train.shape[1:] ))\n",
        "\n",
        "model.add(tf.keras.layers.MaxPooling2D(2, 2))\n",
        "\n",
        "\n",
        "model.add(tf.keras.layers.Conv2D(32, kernel_size = (3, 3), strides = (1, 1),\n",
        "                                 padding = \"same\", activation = \"relu\"))\n",
        "\n",
        "model.add(tf.keras.layers.MaxPooling2D(2, 2))\n",
        "\n",
        "\n",
        "model.add(tf.keras.layers.Conv2D(64, kernel_size = (3, 3), strides = (1, 1),\n",
        "                                 padding = \"same\", activation = \"relu\"))\n",
        "\n",
        "model.add(tf.keras.layers.MaxPooling2D(2, 2))\n",
        "\n",
        "\n",
        "model.add(tf.keras.layers.Conv2D(128, kernel_size = (3, 3), strides = (1, 1),\n",
        "                                 padding = \"same\", activation = \"relu\"))\n",
        "\n",
        "model.add(tf.keras.layers.MaxPooling2D(2, 2))\n",
        "\n",
        "\n",
        "model.add(tf.keras.layers.Conv2D(256, kernel_size = (3, 3), strides = (1, 1),\n",
        "                                 padding = \"same\", activation = \"relu\"))"
      ],
      "metadata": {
        "id": "j7m0L5VP2gdR"
      },
      "execution_count": 34,
      "outputs": []
    },
    {
      "cell_type": "code",
      "source": [
        "# Düzleştirme katmanı eklenir\n",
        "# Evrişim katmanlarından gelen çıktı Flatten katmanı ile tek boyutlu hale dönüştürülür.\n",
        "\n",
        "model.add(tf.keras.layers.Flatten())"
      ],
      "metadata": {
        "id": "wx3fk6N42gdS"
      },
      "execution_count": 35,
      "outputs": []
    },
    {
      "cell_type": "code",
      "source": [
        "# 2 tane tam bağlı ve bırakma katmanı eklenir.\n",
        "# Bırakma oranı %50 olarak belirlenmiştir.\n",
        "\n",
        "model.add(tf.keras.layers.Dense(128, activation = \"relu\"))\n",
        "model.add(tf.keras.layers.Dropout(0.5))\n",
        "\n",
        "model.add(tf.keras.layers.Dense(64, activation = \"relu\"))\n",
        "model.add(tf.keras.layers.Dropout(0.5))\n",
        "\n",
        "model.add(tf.keras.layers.Dense(32, activation = \"relu\"))\n",
        "model.add(tf.keras.layers.Dropout(0.5))"
      ],
      "metadata": {
        "id": "M2w9FpHr2gdS"
      },
      "execution_count": 36,
      "outputs": []
    },
    {
      "cell_type": "code",
      "source": [
        "# Çıkış katmanı eklenir\n",
        "# 10 Sınıf olduğu için birim sayısı (units) 10 olarak ayarlanır.\n",
        "# Sınıf tahminin yapabilmek için aktivasyon fonksiyonu softmax olarak tercih edilir.\n",
        "\n",
        "model.add(tf.keras.layers.Dense(10, activation = \"softmax\"))"
      ],
      "metadata": {
        "id": "_SRsr-Yh2gdS"
      },
      "execution_count": 37,
      "outputs": []
    },
    {
      "cell_type": "code",
      "source": [
        "# Model tamamlanır.\n",
        "model.compile(optimizer = \"adam\", loss = \"sparse_categorical_crossentropy\", metrics = [\"accuracy\"])"
      ],
      "metadata": {
        "id": "q5kBcvTO2gdS"
      },
      "execution_count": 38,
      "outputs": []
    },
    {
      "cell_type": "code",
      "source": [
        "# Modelin özeti gösterilir\n",
        "model.summary()"
      ],
      "metadata": {
        "colab": {
          "base_uri": "https://localhost:8080/"
        },
        "outputId": "5e864546-a580-4ac9-9184-7f721cc7f817",
        "id": "aD2m1EEw2gdS"
      },
      "execution_count": 39,
      "outputs": [
        {
          "output_type": "stream",
          "name": "stdout",
          "text": [
            "Model: \"sequential_3\"\n",
            "_________________________________________________________________\n",
            " Layer (type)                Output Shape              Param #   \n",
            "=================================================================\n",
            " conv2d_12 (Conv2D)          (None, 100, 100, 16)      160       \n",
            "                                                                 \n",
            " max_pooling2d_9 (MaxPooling  (None, 50, 50, 16)       0         \n",
            " 2D)                                                             \n",
            "                                                                 \n",
            " conv2d_13 (Conv2D)          (None, 50, 50, 32)        4640      \n",
            "                                                                 \n",
            " max_pooling2d_10 (MaxPoolin  (None, 25, 25, 32)       0         \n",
            " g2D)                                                            \n",
            "                                                                 \n",
            " conv2d_14 (Conv2D)          (None, 25, 25, 64)        18496     \n",
            "                                                                 \n",
            " max_pooling2d_11 (MaxPoolin  (None, 12, 12, 64)       0         \n",
            " g2D)                                                            \n",
            "                                                                 \n",
            " conv2d_15 (Conv2D)          (None, 12, 12, 128)       73856     \n",
            "                                                                 \n",
            " max_pooling2d_12 (MaxPoolin  (None, 6, 6, 128)        0         \n",
            " g2D)                                                            \n",
            "                                                                 \n",
            " conv2d_16 (Conv2D)          (None, 6, 6, 256)         295168    \n",
            "                                                                 \n",
            " flatten_3 (Flatten)         (None, 9216)              0         \n",
            "                                                                 \n",
            " dense_9 (Dense)             (None, 128)               1179776   \n",
            "                                                                 \n",
            " dropout_6 (Dropout)         (None, 128)               0         \n",
            "                                                                 \n",
            " dense_10 (Dense)            (None, 64)                8256      \n",
            "                                                                 \n",
            " dropout_7 (Dropout)         (None, 64)                0         \n",
            "                                                                 \n",
            " dense_11 (Dense)            (None, 32)                2080      \n",
            "                                                                 \n",
            " dropout_8 (Dropout)         (None, 32)                0         \n",
            "                                                                 \n",
            " dense_12 (Dense)            (None, 10)                330       \n",
            "                                                                 \n",
            "=================================================================\n",
            "Total params: 1,582,762\n",
            "Trainable params: 1,582,762\n",
            "Non-trainable params: 0\n",
            "_________________________________________________________________\n"
          ]
        }
      ]
    },
    {
      "cell_type": "markdown",
      "source": [
        "* **Modelin Çalıştırılması**"
      ],
      "metadata": {
        "id": "FSz90euU2gdT"
      }
    },
    {
      "cell_type": "code",
      "source": [
        "# Model 30 defa (epoch) 128 parça boyutu (batch size) ile çalıştırılır\n",
        "\n",
        "Model_V2_Results = model.fit(X_train, y_train, batch_size = 128, epochs = 30, validation_data = (X_val, y_val))"
      ],
      "metadata": {
        "colab": {
          "base_uri": "https://localhost:8080/"
        },
        "outputId": "436761ce-f240-4b0b-8235-9192d41ce86e",
        "id": "wYBjdBmz2gdT"
      },
      "execution_count": 40,
      "outputs": [
        {
          "output_type": "stream",
          "name": "stdout",
          "text": [
            "Epoch 1/30\n",
            "48/48 [==============================] - 51s 1s/step - loss: 2.5997 - accuracy: 0.1176 - val_loss: 2.2439 - val_accuracy: 0.1466\n",
            "Epoch 2/30\n",
            "48/48 [==============================] - 50s 1s/step - loss: 2.2365 - accuracy: 0.1558 - val_loss: 2.0890 - val_accuracy: 0.2466\n",
            "Epoch 3/30\n",
            "48/48 [==============================] - 50s 1s/step - loss: 2.1565 - accuracy: 0.1859 - val_loss: 1.9881 - val_accuracy: 0.2885\n",
            "Epoch 4/30\n",
            "48/48 [==============================] - 50s 1s/step - loss: 2.0616 - accuracy: 0.2299 - val_loss: 1.9202 - val_accuracy: 0.3145\n",
            "Epoch 5/30\n",
            "48/48 [==============================] - 50s 1s/step - loss: 1.9862 - accuracy: 0.2624 - val_loss: 1.8271 - val_accuracy: 0.3748\n",
            "Epoch 6/30\n",
            "48/48 [==============================] - 50s 1s/step - loss: 1.9235 - accuracy: 0.2952 - val_loss: 1.7084 - val_accuracy: 0.4153\n",
            "Epoch 7/30\n",
            "48/48 [==============================] - 50s 1s/step - loss: 1.8395 - accuracy: 0.3195 - val_loss: 1.6553 - val_accuracy: 0.4542\n",
            "Epoch 8/30\n",
            "48/48 [==============================] - 50s 1s/step - loss: 1.7591 - accuracy: 0.3583 - val_loss: 1.5580 - val_accuracy: 0.4519\n",
            "Epoch 9/30\n",
            "48/48 [==============================] - 50s 1s/step - loss: 1.7222 - accuracy: 0.3704 - val_loss: 1.5030 - val_accuracy: 0.4939\n",
            "Epoch 10/30\n",
            "48/48 [==============================] - 50s 1s/step - loss: 1.6381 - accuracy: 0.4022 - val_loss: 1.5186 - val_accuracy: 0.4832\n",
            "Epoch 11/30\n",
            "48/48 [==============================] - 50s 1s/step - loss: 1.5741 - accuracy: 0.4192 - val_loss: 1.3540 - val_accuracy: 0.5763\n",
            "Epoch 12/30\n",
            "48/48 [==============================] - 50s 1s/step - loss: 1.5237 - accuracy: 0.4437 - val_loss: 1.3443 - val_accuracy: 0.5641\n",
            "Epoch 13/30\n",
            "48/48 [==============================] - 50s 1s/step - loss: 1.4512 - accuracy: 0.4709 - val_loss: 1.2827 - val_accuracy: 0.5534\n",
            "Epoch 14/30\n",
            "48/48 [==============================] - 50s 1s/step - loss: 1.4528 - accuracy: 0.4719 - val_loss: 1.1868 - val_accuracy: 0.5947\n",
            "Epoch 15/30\n",
            "48/48 [==============================] - 50s 1s/step - loss: 1.3667 - accuracy: 0.4987 - val_loss: 1.1397 - val_accuracy: 0.6244\n",
            "Epoch 16/30\n",
            "48/48 [==============================] - 50s 1s/step - loss: 1.2869 - accuracy: 0.5296 - val_loss: 1.1746 - val_accuracy: 0.6092\n",
            "Epoch 17/30\n",
            "48/48 [==============================] - 50s 1s/step - loss: 1.2873 - accuracy: 0.5278 - val_loss: 1.0521 - val_accuracy: 0.6107\n",
            "Epoch 18/30\n",
            "48/48 [==============================] - 50s 1s/step - loss: 1.2016 - accuracy: 0.5483 - val_loss: 1.0457 - val_accuracy: 0.6244\n",
            "Epoch 19/30\n",
            "48/48 [==============================] - 50s 1s/step - loss: 1.2167 - accuracy: 0.5502 - val_loss: 1.0913 - val_accuracy: 0.6092\n",
            "Epoch 20/30\n",
            "48/48 [==============================] - 50s 1s/step - loss: 1.1513 - accuracy: 0.5607 - val_loss: 1.0144 - val_accuracy: 0.6176\n",
            "Epoch 21/30\n",
            "48/48 [==============================] - 50s 1s/step - loss: 1.1476 - accuracy: 0.5622 - val_loss: 1.0539 - val_accuracy: 0.5893\n",
            "Epoch 22/30\n",
            "48/48 [==============================] - 50s 1s/step - loss: 1.0961 - accuracy: 0.5802 - val_loss: 1.0373 - val_accuracy: 0.6031\n",
            "Epoch 23/30\n",
            "48/48 [==============================] - 50s 1s/step - loss: 1.0422 - accuracy: 0.5900 - val_loss: 0.9867 - val_accuracy: 0.6237\n",
            "Epoch 24/30\n",
            "48/48 [==============================] - 50s 1s/step - loss: 1.0166 - accuracy: 0.5929 - val_loss: 1.0577 - val_accuracy: 0.5924\n",
            "Epoch 25/30\n",
            "48/48 [==============================] - 50s 1s/step - loss: 1.0228 - accuracy: 0.5934 - val_loss: 0.9483 - val_accuracy: 0.6290\n",
            "Epoch 26/30\n",
            "48/48 [==============================] - 50s 1s/step - loss: 1.0152 - accuracy: 0.5954 - val_loss: 0.9597 - val_accuracy: 0.6206\n",
            "Epoch 27/30\n",
            "48/48 [==============================] - 50s 1s/step - loss: 0.9886 - accuracy: 0.6014 - val_loss: 0.8934 - val_accuracy: 0.6359\n",
            "Epoch 28/30\n",
            "48/48 [==============================] - 50s 1s/step - loss: 0.9481 - accuracy: 0.6135 - val_loss: 1.0197 - val_accuracy: 0.6214\n",
            "Epoch 29/30\n",
            "48/48 [==============================] - 50s 1s/step - loss: 0.9116 - accuracy: 0.6335 - val_loss: 0.9677 - val_accuracy: 0.6237\n",
            "Epoch 30/30\n",
            "48/48 [==============================] - 50s 1s/step - loss: 0.8967 - accuracy: 0.6351 - val_loss: 0.9620 - val_accuracy: 0.6313\n"
          ]
        }
      ]
    },
    {
      "cell_type": "markdown",
      "source": [
        "* **Modelin Sonuçlarının Görselleştirilmesi**"
      ],
      "metadata": {
        "id": "n_aDjmD22gdT"
      }
    },
    {
      "cell_type": "code",
      "source": [
        "# Eğitim kaybı çizdilir\n",
        "plt.plot(Model_V2_Results.history[\"loss\"], label = \"loss\")\n",
        "\n",
        "# Doğrulama kaybı çizdirilir\n",
        "plt.plot(Model_V2_Results.history[\"val_loss\"], label = \"val_loss\")\n",
        "\n",
        "# X ve Y eksenleri isimlendirilir\n",
        "plt.xlabel(\"Epoch\")\n",
        "plt.ylabel(\"Loss\")\n",
        "\n",
        "# Lejant tablosu çizim üstüne eklenir\n",
        "plt.legend()\n",
        "\n",
        "# Çizim gösterilir\n",
        "plt.show()"
      ],
      "metadata": {
        "colab": {
          "base_uri": "https://localhost:8080/",
          "height": 279
        },
        "outputId": "12f2b200-667a-4ffc-edef-badd8e3ec3e5",
        "id": "VTLPh9Z32gdU"
      },
      "execution_count": 41,
      "outputs": [
        {
          "output_type": "display_data",
          "data": {
            "text/plain": [
              "<Figure size 432x288 with 1 Axes>"
            ],
            "image/png": "[encoded data removed]"
          },
          "metadata": {
            "needs_background": "light"
          }
        }
      ]
    },
    {
      "cell_type": "code",
      "source": [
        "# Eğitim doğruluğu çizdilir\n",
        "plt.plot(Model_V2_Results.history[\"accuracy\"], label = \"accuracy\")\n",
        "\n",
        "# Doğrulama doğruluğu çizdirilir\n",
        "plt.plot(Model_V2_Results.history[\"val_accuracy\"], label = \"val_accuracy\")\n",
        "\n",
        "# X ve Y eksenleri isimlendirilir\n",
        "plt.xlabel(\"Epoch\")\n",
        "plt.ylabel(\"Accuracy\")\n",
        "\n",
        "# Lejant tablosu çizim üstüne eklenir\n",
        "plt.legend()\n",
        "\n",
        "# Çizim gösterilir\n",
        "plt.show()"
      ],
      "metadata": {
        "colab": {
          "base_uri": "https://localhost:8080/",
          "height": 279
        },
        "outputId": "610e2e60-306e-4baf-a1a3-862e0733fca2",
        "id": "xaulxIB72gdU"
      },
      "execution_count": 42,
      "outputs": [
        {
          "output_type": "display_data",
          "data": {
            "text/plain": [
              "<Figure size 432x288 with 1 Axes>"
            ],
            "image/png": "[encoded data removed]"
          },
          "metadata": {
            "needs_background": "light"
          }
        }
      ]
    },
    {
      "cell_type": "markdown",
      "source": [
        "* **Test Verisi Üzerinde Model Performansının Değerlendirilmesi**"
      ],
      "metadata": {
        "id": "7mXm29DP2gdU"
      }
    },
    {
      "cell_type": "code",
      "source": [
        "model.evaluate(X_test, y_test)"
      ],
      "metadata": {
        "colab": {
          "base_uri": "https://localhost:8080/"
        },
        "outputId": "e021f63d-1141-4d31-c3cc-fbc363e98b64",
        "id": "VLH1iwFc2gdU"
      },
      "execution_count": 43,
      "outputs": [
        {
          "output_type": "stream",
          "name": "stdout",
          "text": [
            "41/41 [==============================] - 3s 70ms/step - loss: 1.0086 - accuracy: 0.6351\n"
          ]
        },
        {
          "output_type": "execute_result",
          "data": {
            "text/plain": [
              "[1.008561134338379, 0.6351144909858704]"
            ]
          },
          "metadata": {},
          "execution_count": 43
        }
      ]
    }
  ]
}